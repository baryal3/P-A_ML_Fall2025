{
 "cells": [
  {
   "cell_type": "code",
   "execution_count": null,
   "id": "1bf3ee31",
   "metadata": {},
   "outputs": [],
   "source": [
    "import numpy as np\n",
    "import torch\n",
    "import pandas as pd"
   ]
  },
  {
   "cell_type": "code",
   "execution_count": null,
   "id": "4094dad0",
   "metadata": {},
   "outputs": [],
   "source": [
    "# numpy implementation\n",
    "def convolve_np(input, kernel) -> np.ndarray:\n",
    "    \"\"\"\n",
    "    Convolution function between an input image and a kernel, numpy implementation.\n",
    "\n",
    "    Args:\n",
    "        input : a matrix-like input object\n",
    "        kernel : a matrix-like kernel object\n",
    "\n",
    "    Returns:\n",
    "        np.ndarray: a matrix-like output\n",
    "    \"\"\"\n",
    "    # Check input and kernel can be converted into numerical tensors\n",
    "    valid_dtypes = ['int64', 'float64']\n",
    "    input = np.array(input)\n",
    "    kernel = np.array(kernel)\n",
    "    assert input.dtype in valid_dtypes, \"input cannot be converted to numerical tensor, aborting\"\n",
    "    assert kernel.dtype in valid_dtypes, \"kernel cannot be converted to numerical tensor, aborting\"\n",
    "\n",
    "    # If kernel larger than input, trim kernel to match input size\n",
    "    ih, iw = input.shape\n",
    "    kh, kw = min(kernel.shape, input.shape)\n",
    "\n",
    "    if ih < kernel.shape[0]:\n",
    "        print(f\"Input height ({ih}) < kernel height ({kernel.shape[0]}): trimming kernel height to {ih} pixels\")\n",
    "    if iw < kernel.shape[1]:\n",
    "        print(f\"Input width ({iw}) < kernel width ({kernel.shape[1]}): trimming kernel width to {iw} pixels\")\n",
    "\n",
    "    kernel = kernel[0:kh, 0:kw]\n",
    "\n",
    "    # Output size\n",
    "    hi = ih - kh + 1\n",
    "    wi = iw - kw + 1\n",
    "    out = np.zeros([hi, wi])\n",
    "\n",
    "    # Convolution\n",
    "    for h in range(hi):\n",
    "        for w in range(wi):\n",
    "            out[h, w] = np.sum(input[h:h+kh, w:w+kw] * kernel)\n",
    "    return out"
   ]
  },
  {
   "cell_type": "code",
   "execution_count": null,
   "id": "493316f4",
   "metadata": {},
   "outputs": [],
   "source": [
    "# torch implementation\n",
    "def convolve(input, kernel) -> torch.Tensor:\n",
    "    \"\"\"\n",
    "    Convolution function between an input image and a kernel, torch implementation.\n",
    "\n",
    "    Args:\n",
    "        input : a matrix-like input object\n",
    "        kernel : a matrix-like kernel object\n",
    "\n",
    "    Returns:\n",
    "        torch.Tensor: a matrix-like output\n",
    "    \"\"\"\n",
    "    # Convert input and kernel to Tensors, torch will automatically raise errors if wrong format\n",
    "    input = torch.Tensor(input)\n",
    "    kernel = torch.Tensor(kernel)\n",
    "\n",
    "    # If kernel larger than input, trim kernel to match input size\n",
    "    ih, iw = input.shape\n",
    "    kh, kw = min(kernel.shape, input.shape)\n",
    "\n",
    "    if ih < kernel.shape[0]:\n",
    "        print(f\"Input height ({ih}) < kernel height ({kernel.shape[0]}): trimming kernel height to {ih} pixels\")\n",
    "    if iw < kernel.shape[1]:\n",
    "        print(f\"Input width ({iw}) < kernel width ({kernel.shape[1]}): trimming kernel width to {iw} pixels\")\n",
    "\n",
    "    kernel = kernel[0:kh, 0:kw]\n",
    "\n",
    "    # Output size\n",
    "    hi = ih - kh + 1\n",
    "    wi = iw - kw + 1\n",
    "    out = torch.zeros([hi, wi])\n",
    "\n",
    "    # Convolution\n",
    "    for h in range(hi):\n",
    "        for w in range(wi):\n",
    "            out[h, w] = torch.sum(input[h:h+kh, w:w+kw] * kernel)\n",
    "    return out"
   ]
  },
  {
   "cell_type": "code",
   "execution_count": null,
   "id": "f995c8e0",
   "metadata": {},
   "outputs": [],
   "source": [
    "# \"Invalid\" tensors (wrong object types, the convolution function will throw errors)\n",
    "aaa = 'foo'\n",
    "ddd = {'foo':'bar', 'baz':[1,2,3], 999:'qux'}\n",
    "df  = pd.DataFrame(ddd)"
   ]
  },
  {
   "cell_type": "code",
   "execution_count": 16,
   "id": "871f9e95",
   "metadata": {},
   "outputs": [],
   "source": [
    "# \"Valid\" tensors (the convolution function will operate on these)\n",
    "iii = [[0,1,2],[3,4,5],[6,7,8]]\n",
    "kkk = [[0,1],[2,3]]\n",
    "fff = [[0.1, 1.1, 2.2], [3.3, 4.4, 5.5], [6.6, 7.7, 8.8]]\n",
    "zzz = [[3],[3]]\n",
    "lll = [[0,1,2,3,4], [5,6,7,8,9], [10,11,12,13,14], [15,16,17,18,19], [20,21,22,23,24]]"
   ]
  },
  {
   "cell_type": "code",
   "execution_count": 14,
   "id": "5dde5b4c",
   "metadata": {},
   "outputs": [
    {
     "ename": "TypeError",
     "evalue": "new(): invalid data type 'str'",
     "output_type": "error",
     "traceback": [
      "\u001b[31m---------------------------------------------------------------------------\u001b[39m",
      "\u001b[31mTypeError\u001b[39m                                 Traceback (most recent call last)",
      "\u001b[36mCell\u001b[39m\u001b[36m \u001b[39m\u001b[32mIn[14]\u001b[39m\u001b[32m, line 2\u001b[39m\n\u001b[32m      1\u001b[39m \u001b[38;5;66;03m# Will not work\u001b[39;00m\n\u001b[32m----> \u001b[39m\u001b[32m2\u001b[39m \u001b[43mconvolve\u001b[49m\u001b[43m(\u001b[49m\u001b[43maaa\u001b[49m\u001b[43m,\u001b[49m\u001b[43m \u001b[49m\u001b[43mkkk\u001b[49m\u001b[43m)\u001b[49m\n",
      "\u001b[36mCell\u001b[39m\u001b[36m \u001b[39m\u001b[32mIn[13]\u001b[39m\u001b[32m, line 4\u001b[39m, in \u001b[36mconvolve\u001b[39m\u001b[34m(input, kernel)\u001b[39m\n\u001b[32m      2\u001b[39m \u001b[38;5;28;01mdef\u001b[39;00m \u001b[34mconvolve\u001b[39m(\u001b[38;5;28minput\u001b[39m, kernel) -> torch.Tensor:\n\u001b[32m      3\u001b[39m     \u001b[38;5;66;03m# Convert input and kernel to Tensors, torch will automatically raise errors if wrong format\u001b[39;00m\n\u001b[32m----> \u001b[39m\u001b[32m4\u001b[39m     \u001b[38;5;28minput\u001b[39m = \u001b[43mtorch\u001b[49m\u001b[43m.\u001b[49m\u001b[43mTensor\u001b[49m\u001b[43m(\u001b[49m\u001b[38;5;28;43minput\u001b[39;49m\u001b[43m)\u001b[49m\n\u001b[32m      5\u001b[39m     kernel = torch.Tensor(kernel)\n\u001b[32m      7\u001b[39m     \u001b[38;5;66;03m# If kernel larger than input, trim kernel to match input size\u001b[39;00m\n",
      "\u001b[31mTypeError\u001b[39m: new(): invalid data type 'str'"
     ]
    }
   ],
   "source": [
    "# Will not work\n",
    "convolve(aaa, kkk)"
   ]
  },
  {
   "cell_type": "code",
   "execution_count": 17,
   "id": "cfeac3f2",
   "metadata": {},
   "outputs": [
    {
     "data": {
      "text/plain": [
       "tensor([[20.9000, 27.5000],\n",
       "        [40.7000, 47.3000]])"
      ]
     },
     "execution_count": 17,
     "metadata": {},
     "output_type": "execute_result"
    }
   ],
   "source": [
    "# Will work\n",
    "convolve(fff, kkk)"
   ]
  },
  {
   "cell_type": "code",
   "execution_count": null,
   "id": "b708fb63",
   "metadata": {},
   "outputs": [],
   "source": []
  }
 ],
 "metadata": {
  "kernelspec": {
   "display_name": "Python 3",
   "language": "python",
   "name": "python3"
  },
  "language_info": {
   "codemirror_mode": {
    "name": "ipython",
    "version": 3
   },
   "file_extension": ".py",
   "mimetype": "text/x-python",
   "name": "python",
   "nbconvert_exporter": "python",
   "pygments_lexer": "ipython3",
   "version": "3.12.3"
  }
 },
 "nbformat": 4,
 "nbformat_minor": 5
}
